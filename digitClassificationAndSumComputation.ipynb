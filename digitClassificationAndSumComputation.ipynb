{
  "nbformat": 4,
  "nbformat_minor": 0,
  "metadata": {
    "colab": {
      "name": "Alecsandru_Anca_part1_and_part2.ipynb",
      "version": "0.3.2",
      "provenance": [],
      "collapsed_sections": []
    },
    "kernelspec": {
      "name": "python3",
      "display_name": "Python 3"
    },
    "accelerator": "GPU"
  },
  "cells": [
    {
      "metadata": {
        "id": "qQybkUgDvaGe",
        "colab_type": "code",
        "colab": {}
      },
      "cell_type": "code",
      "source": [
        "%reload_ext autoreload\n",
        "%autoreload 2\n",
        "%matplotlib inline\n",
        "\n",
        "import numpy as np\n",
        "import matplotlib.pyplot as plt\n",
        "import tensorflow as tf\n",
        "from tensorflow import keras\n",
        "import pandas as pd\n",
        "import os\n",
        "# MODEL\n",
        "from keras.models import Sequential\n",
        "from keras.layers import Conv2D, MaxPooling2D\n",
        "from keras.layers import Activation, Dropout, Flatten, Dense\n",
        "from keras import regularizers\n",
        "#for encoding data\n",
        "from keras.utils import to_categorical\n",
        "\n",
        "from keras.models import Sequential\n",
        "from keras.layers import Dense\n",
        "from keras.layers import LSTM\n",
        "from keras.layers import TimeDistributed\n",
        "from keras.layers import RepeatVector\n",
        "\n",
        "from keras import regularizers"
      ],
      "execution_count": 0,
      "outputs": []
    },
    {
      "metadata": {
        "id": "ZYL1f3DavbUV",
        "colab_type": "text"
      },
      "cell_type": "markdown",
      "source": [
        "## Part 1 Image Classification (70p)\n"
      ]
    },
    {
      "metadata": {
        "id": "Cgzrk5F4vbq2",
        "colab_type": "code",
        "outputId": "ed263a45-b10f-40a4-84ef-bd256fe58deb",
        "colab": {
          "base_uri": "https://localhost:8080/",
          "height": 54
        }
      },
      "cell_type": "code",
      "source": [
        "%%time\n",
        "import data_generator\n",
        "\n",
        "train_examples = 50000\n",
        "test_examples=1000\n",
        "\n",
        "train_generator = data_generator.training_generator(batch_size=train_examples)\n",
        "test_generator = data_generator.test_generator(batch_size = test_examples)\n",
        "\n",
        "x_train, x_labels, numbers_sum = next(train_generator)\n",
        "y_test, y_labels, y_numbers_sum = next(test_generator)\n",
        "\n",
        "# x.shape == (8, 2, 28, 84)     # 8 pairs of images with height 28px and width 84px\n",
        "# numbers.shape == (8, 2)       # 8 pairs of numbers corresponding to the images\n",
        "# numbers_sum.shape == (8, 1)   # 8 numbers that represent the sum of the numbers from the images\n",
        "\n",
        "x_train, y_test = x_train / 255.0, y_test / 255.0 # scaling the data\n",
        "\n"
      ],
      "execution_count": 18,
      "outputs": [
        {
          "output_type": "stream",
          "text": [
            "CPU times: user 5min 23s, sys: 553 ms, total: 5min 24s\n",
            "Wall time: 5min 27s\n"
          ],
          "name": "stdout"
        }
      ]
    },
    {
      "metadata": {
        "id": "tJqFiHeHufTA",
        "colab_type": "code",
        "colab": {
          "base_uri": "https://localhost:8080/",
          "height": 194
        },
        "outputId": "773a78de-2747-41df-9680-42897f093d2a"
      },
      "cell_type": "code",
      "source": [
        "#reshape\n",
        "x_train =x_train.reshape(-1,28,84)\n",
        "x_labels = x_labels.reshape(-1)\n",
        "\n",
        "y_test =y_test.reshape(-1,28,84)\n",
        "y_labels = y_labels.reshape(-1)\n",
        "\n",
        "#plot to see everything is ok\n",
        "print('x train shape: ',x_train.shape)\n",
        "\n",
        "plt.figure()\n",
        "plt.xticks([])\n",
        "plt.yticks([])\n",
        "plt.grid(False)\n",
        "plt.imshow(x_train[1], cmap=plt.cm.binary)\n",
        "plt.xlabel(x_labels[1])"
      ],
      "execution_count": 19,
      "outputs": [
        {
          "output_type": "stream",
          "text": [
            "x train shape:  (100000, 28, 84)\n"
          ],
          "name": "stdout"
        },
        {
          "output_type": "execute_result",
          "data": {
            "text/plain": [
              "Text(0.5,0,'238')"
            ]
          },
          "metadata": {
            "tags": []
          },
          "execution_count": 19
        },
        {
          "output_type": "display_data",
          "data": {
            "image/png": "[encoded data removed]",
            "text/plain": [
              "<matplotlib.figure.Figure at 0x7f09cb7e32e8>"
            ]
          },
          "metadata": {
            "tags": []
          }
        }
      ]
    },
    {
      "metadata": {
        "id": "FI43MYKkkPBD",
        "colab_type": "text"
      },
      "cell_type": "markdown",
      "source": [
        "##  Data pre-processing\n",
        "*The reshaping to (-1,28,84) is done in order to extract from the pairs of images, each individual image\n",
        "Next, we need to reshape our dataset inputs (x_train and x_test) to the shape that our model expects when we train the model. The first number is the number of images (train_examples*2 for x_train and test_examples*2  for X_test because the data_generator returns pair of 2 images and by the previous reshape we have extracted each image). Then comes the shape of each image (28x56). The last number is** 1, which signifies that the images are greyscale.**"
      ]
    },
    {
      "metadata": {
        "id": "mps71rIIerIg",
        "colab_type": "code",
        "colab": {}
      },
      "cell_type": "code",
      "source": [
        "x_train = x_train.reshape(train_examples*2,28,84,1)\n",
        "y_test = y_test.reshape(test_examples*2,28,84,1)"
      ],
      "execution_count": 0,
      "outputs": []
    },
    {
      "metadata": {
        "id": "Wcaujau0i8TE",
        "colab_type": "code",
        "colab": {}
      },
      "cell_type": "code",
      "source": [
        ""
      ],
      "execution_count": 0,
      "outputs": []
    },
    {
      "metadata": {
        "id": "lyN4oey2ruKN",
        "colab_type": "text"
      },
      "cell_type": "markdown",
      "source": [
        "The model is a Sequential one, multiple layers being added on it afterwards.\n",
        "The first 2 layers are Conv2D.(\"\n",
        "*A convolution multiplies a matrix of pixels with a filter matrix or ‘kernel’ and sums up the multiplication values. Then the convolution slides over to the next pixel and repeats the same process until all the image pixels have been covered.*\")\n",
        "\n",
        "The 64 and 32 are the number of nodes on each Conv2D layer.\n",
        "\n",
        "\n",
        "\n",
        "The activation  on the last layer is ‘softmax’. Softmax makes the output sum up to 1 so the output can be interpreted as probabilities. The model will then make its prediction based on which option has the highest probability.\n",
        "\n",
        "After each Conv2D layer we have a MaxPooling2D layer in order to downsize and after them a Flatten layer which converts the filter from the convolution into a one dimension vector.\n",
        "\n",
        "\n"
      ]
    },
    {
      "metadata": {
        "id": "unSTLO7Z-VZ_",
        "colab_type": "code",
        "outputId": "9c6c6284-2aa6-44f4-b31d-e5b5c794ef30",
        "colab": {
          "base_uri": "https://localhost:8080/",
          "height": 654
        }
      },
      "cell_type": "code",
      "source": [
        "\n",
        "from keras import regularizers\n",
        "\n",
        "# MODEL\n",
        "from keras.models import Sequential\n",
        "from keras.layers import Conv2D, MaxPooling2D\n",
        "from keras.layers import Activation, Dropout, Flatten, Dense\n",
        "\n",
        "#In a CNN, each neuron produces one feature map.\n",
        "model = Sequential()\n",
        "model.add(Conv2D(64, (3, 3), input_shape=(28,84,1)))\n",
        "model.add(Activation('relu'))\n",
        "model.add(MaxPooling2D(pool_size=(2, 2)))\n",
        "\n",
        "model.add(Conv2D(32, (3, 3)))\n",
        "model.add(Activation('relu'))\n",
        "model.add(MaxPooling2D(pool_size=(2, 2)))\n",
        "\n",
        "# the model so far outputs 3D feature maps (height, width, features)\n",
        "\n",
        "model.add(Flatten())  # this converts our 3D feature maps to 1D feature vectors\n",
        "model.add(Dense(100))\n",
        "model.add(Activation('relu'))\n",
        "\n",
        "model.add(Dense(100))\n",
        "model.add(Activation('relu'))\n",
        "\n",
        "model.add(Dropout(0.2))\n",
        "model.add(Dense(256))\n",
        "model.add(Activation('softmax'))\n",
        "# COMPILE\n",
        "model.compile(loss='sparse_categorical_crossentropy',\n",
        "              optimizer='adam',\n",
        "              metrics=['accuracy'])\n",
        "\n",
        "model.summary()"
      ],
      "execution_count": 28,
      "outputs": [
        {
          "output_type": "stream",
          "text": [
            "_________________________________________________________________\n",
            "Layer (type)                 Output Shape              Param #   \n",
            "=================================================================\n",
            "conv2d_11 (Conv2D)           (None, 26, 82, 64)        640       \n",
            "_________________________________________________________________\n",
            "activation_26 (Activation)   (None, 26, 82, 64)        0         \n",
            "_________________________________________________________________\n",
            "max_pooling2d_11 (MaxPooling (None, 13, 41, 64)        0         \n",
            "_________________________________________________________________\n",
            "conv2d_12 (Conv2D)           (None, 11, 39, 32)        18464     \n",
            "_________________________________________________________________\n",
            "activation_27 (Activation)   (None, 11, 39, 32)        0         \n",
            "_________________________________________________________________\n",
            "max_pooling2d_12 (MaxPooling (None, 5, 19, 32)         0         \n",
            "_________________________________________________________________\n",
            "flatten_6 (Flatten)          (None, 3040)              0         \n",
            "_________________________________________________________________\n",
            "dense_17 (Dense)             (None, 100)               304100    \n",
            "_________________________________________________________________\n",
            "activation_28 (Activation)   (None, 100)               0         \n",
            "_________________________________________________________________\n",
            "dense_18 (Dense)             (None, 100)               10100     \n",
            "_________________________________________________________________\n",
            "activation_29 (Activation)   (None, 100)               0         \n",
            "_________________________________________________________________\n",
            "dropout_3 (Dropout)          (None, 100)               0         \n",
            "_________________________________________________________________\n",
            "dense_19 (Dense)             (None, 256)               25856     \n",
            "_________________________________________________________________\n",
            "activation_30 (Activation)   (None, 256)               0         \n",
            "=================================================================\n",
            "Total params: 359,160\n",
            "Trainable params: 359,160\n",
            "Non-trainable params: 0\n",
            "_________________________________________________________________\n"
          ],
          "name": "stdout"
        }
      ]
    },
    {
      "metadata": {
        "id": "gL8X5i5ofKJs",
        "colab_type": "code",
        "outputId": "6b04e6b5-670f-4c86-96ba-3859a7792a58",
        "colab": {
          "base_uri": "https://localhost:8080/",
          "height": 1890
        }
      },
      "cell_type": "code",
      "source": [
        "%%time\n",
        "#train the model\n",
        "history = model.fit(x_train, x_labels,\n",
        "          validation_data = (y_test, y_labels),\n",
        "          batch_size = 64,\n",
        "          epochs=50)\n"
      ],
      "execution_count": 29,
      "outputs": [
        {
          "output_type": "stream",
          "text": [
            "Train on 100000 samples, validate on 2000 samples\n",
            "Epoch 1/50\n",
            "100000/100000 [==============================] - 24s 242us/step - loss: 2.3055 - acc: 0.4196 - val_loss: 0.6364 - val_acc: 0.8105\n",
            "Epoch 2/50\n",
            "100000/100000 [==============================] - 23s 232us/step - loss: 0.6909 - acc: 0.7968 - val_loss: 0.3648 - val_acc: 0.9005\n",
            "Epoch 3/50\n",
            "100000/100000 [==============================] - 23s 232us/step - loss: 0.4522 - acc: 0.8648 - val_loss: 0.2875 - val_acc: 0.9195\n",
            "Epoch 4/50\n",
            "100000/100000 [==============================] - 23s 232us/step - loss: 0.3514 - acc: 0.8936 - val_loss: 0.2495 - val_acc: 0.9290\n",
            "Epoch 5/50\n",
            "100000/100000 [==============================] - 23s 232us/step - loss: 0.2855 - acc: 0.9126 - val_loss: 0.2310 - val_acc: 0.9290\n",
            "Epoch 6/50\n",
            "100000/100000 [==============================] - 23s 232us/step - loss: 0.2444 - acc: 0.9229 - val_loss: 0.2110 - val_acc: 0.9380\n",
            "Epoch 7/50\n",
            "100000/100000 [==============================] - 23s 232us/step - loss: 0.2097 - acc: 0.9338 - val_loss: 0.2001 - val_acc: 0.9385\n",
            "Epoch 8/50\n",
            "100000/100000 [==============================] - 23s 232us/step - loss: 0.1817 - acc: 0.9418 - val_loss: 0.2315 - val_acc: 0.9305\n",
            "Epoch 9/50\n",
            "100000/100000 [==============================] - 23s 232us/step - loss: 0.1622 - acc: 0.9480 - val_loss: 0.2365 - val_acc: 0.9335\n",
            "Epoch 10/50\n",
            "100000/100000 [==============================] - 23s 232us/step - loss: 0.1466 - acc: 0.9523 - val_loss: 0.2326 - val_acc: 0.9380\n",
            "Epoch 11/50\n",
            "100000/100000 [==============================] - 23s 232us/step - loss: 0.1315 - acc: 0.9568 - val_loss: 0.2616 - val_acc: 0.9360\n",
            "Epoch 12/50\n",
            "100000/100000 [==============================] - 24s 236us/step - loss: 0.1202 - acc: 0.9602 - val_loss: 0.2157 - val_acc: 0.9430\n",
            "Epoch 13/50\n",
            "100000/100000 [==============================] - 28s 281us/step - loss: 0.1094 - acc: 0.9638 - val_loss: 0.2328 - val_acc: 0.9430\n",
            "Epoch 14/50\n",
            "100000/100000 [==============================] - 28s 281us/step - loss: 0.1010 - acc: 0.9671 - val_loss: 0.2157 - val_acc: 0.9465\n",
            "Epoch 15/50\n",
            "100000/100000 [==============================] - 28s 280us/step - loss: 0.0942 - acc: 0.9689 - val_loss: 0.2637 - val_acc: 0.9335\n",
            "Epoch 16/50\n",
            "100000/100000 [==============================] - 28s 282us/step - loss: 0.0925 - acc: 0.9688 - val_loss: 0.2624 - val_acc: 0.9380\n",
            "Epoch 17/50\n",
            "100000/100000 [==============================] - 28s 281us/step - loss: 0.0850 - acc: 0.9712 - val_loss: 0.2516 - val_acc: 0.9470\n",
            "Epoch 18/50\n",
            "100000/100000 [==============================] - 28s 282us/step - loss: 0.0810 - acc: 0.9732 - val_loss: 0.2326 - val_acc: 0.9450\n",
            "Epoch 19/50\n",
            "100000/100000 [==============================] - 28s 280us/step - loss: 0.0781 - acc: 0.9738 - val_loss: 0.2717 - val_acc: 0.9385\n",
            "Epoch 20/50\n",
            "100000/100000 [==============================] - 28s 281us/step - loss: 0.0701 - acc: 0.9768 - val_loss: 0.2766 - val_acc: 0.9405\n",
            "Epoch 21/50\n",
            "100000/100000 [==============================] - 28s 283us/step - loss: 0.0705 - acc: 0.9767 - val_loss: 0.2492 - val_acc: 0.9490\n",
            "Epoch 22/50\n",
            "100000/100000 [==============================] - 28s 280us/step - loss: 0.0660 - acc: 0.9777 - val_loss: 0.2422 - val_acc: 0.9460\n",
            "Epoch 23/50\n",
            "100000/100000 [==============================] - 28s 279us/step - loss: 0.0644 - acc: 0.9789 - val_loss: 0.2687 - val_acc: 0.9455\n",
            "Epoch 24/50\n",
            "100000/100000 [==============================] - 28s 282us/step - loss: 0.0619 - acc: 0.9794 - val_loss: 0.2926 - val_acc: 0.9380\n",
            "Epoch 25/50\n",
            "100000/100000 [==============================] - 28s 280us/step - loss: 0.0605 - acc: 0.9800 - val_loss: 0.3054 - val_acc: 0.9390\n",
            "Epoch 26/50\n",
            "100000/100000 [==============================] - 27s 267us/step - loss: 0.0589 - acc: 0.9811 - val_loss: 0.2687 - val_acc: 0.9435\n",
            "Epoch 27/50\n",
            "100000/100000 [==============================] - 28s 282us/step - loss: 0.0559 - acc: 0.9823 - val_loss: 0.2706 - val_acc: 0.9485\n",
            "Epoch 28/50\n",
            "100000/100000 [==============================] - 28s 280us/step - loss: 0.0539 - acc: 0.9824 - val_loss: 0.2741 - val_acc: 0.9495\n",
            "Epoch 29/50\n",
            "100000/100000 [==============================] - 28s 284us/step - loss: 0.0524 - acc: 0.9831 - val_loss: 0.2833 - val_acc: 0.9435\n",
            "Epoch 30/50\n",
            "100000/100000 [==============================] - 28s 281us/step - loss: 0.0543 - acc: 0.9824 - val_loss: 0.3011 - val_acc: 0.9395\n",
            "Epoch 31/50\n",
            "100000/100000 [==============================] - 28s 282us/step - loss: 0.0508 - acc: 0.9832 - val_loss: 0.3106 - val_acc: 0.9445\n",
            "Epoch 32/50\n",
            "100000/100000 [==============================] - 28s 282us/step - loss: 0.0508 - acc: 0.9835 - val_loss: 0.3035 - val_acc: 0.9485\n",
            "Epoch 33/50\n",
            "100000/100000 [==============================] - 28s 282us/step - loss: 0.0474 - acc: 0.9844 - val_loss: 0.2936 - val_acc: 0.9405\n",
            "Epoch 34/50\n",
            "100000/100000 [==============================] - 28s 281us/step - loss: 0.0480 - acc: 0.9848 - val_loss: 0.2942 - val_acc: 0.9485\n",
            "Epoch 35/50\n",
            "100000/100000 [==============================] - 28s 282us/step - loss: 0.0472 - acc: 0.9846 - val_loss: 0.2696 - val_acc: 0.9530\n",
            "Epoch 36/50\n",
            "100000/100000 [==============================] - 28s 281us/step - loss: 0.0457 - acc: 0.9859 - val_loss: 0.3040 - val_acc: 0.9495\n",
            "Epoch 37/50\n",
            "100000/100000 [==============================] - 28s 282us/step - loss: 0.0440 - acc: 0.9861 - val_loss: 0.3449 - val_acc: 0.9390\n",
            "Epoch 38/50\n",
            "100000/100000 [==============================] - 28s 282us/step - loss: 0.0432 - acc: 0.9864 - val_loss: 0.3359 - val_acc: 0.9445\n",
            "Epoch 39/50\n",
            "100000/100000 [==============================] - 28s 282us/step - loss: 0.0440 - acc: 0.9863 - val_loss: 0.3378 - val_acc: 0.9435\n",
            "Epoch 40/50\n",
            "100000/100000 [==============================] - 28s 282us/step - loss: 0.0435 - acc: 0.9859 - val_loss: 0.3031 - val_acc: 0.9475\n",
            "Epoch 41/50\n",
            "100000/100000 [==============================] - 28s 281us/step - loss: 0.0436 - acc: 0.9865 - val_loss: 0.2939 - val_acc: 0.9495\n",
            "Epoch 42/50\n",
            "100000/100000 [==============================] - 26s 257us/step - loss: 0.0448 - acc: 0.9863 - val_loss: 0.3524 - val_acc: 0.9395\n",
            "Epoch 43/50\n",
            "100000/100000 [==============================] - 34s 341us/step - loss: 0.0407 - acc: 0.9869 - val_loss: 0.3187 - val_acc: 0.9510\n",
            "Epoch 44/50\n",
            "100000/100000 [==============================] - 23s 234us/step - loss: 0.0414 - acc: 0.9872 - val_loss: 0.3171 - val_acc: 0.9510\n",
            "Epoch 45/50\n",
            "100000/100000 [==============================] - 23s 232us/step - loss: 0.0392 - acc: 0.9877 - val_loss: 0.3203 - val_acc: 0.9465\n",
            "Epoch 46/50\n",
            "100000/100000 [==============================] - 23s 233us/step - loss: 0.0404 - acc: 0.9876 - val_loss: 0.3469 - val_acc: 0.9395\n",
            "Epoch 47/50\n",
            "100000/100000 [==============================] - 23s 233us/step - loss: 0.0391 - acc: 0.9880 - val_loss: 0.3466 - val_acc: 0.9440\n",
            "Epoch 48/50\n",
            "100000/100000 [==============================] - 23s 233us/step - loss: 0.0390 - acc: 0.9877 - val_loss: 0.3542 - val_acc: 0.9450\n",
            "Epoch 49/50\n",
            "100000/100000 [==============================] - 23s 233us/step - loss: 0.0380 - acc: 0.9882 - val_loss: 0.3563 - val_acc: 0.9435\n",
            "Epoch 50/50\n",
            "100000/100000 [==============================] - 23s 233us/step - loss: 0.0381 - acc: 0.9883 - val_loss: 0.3974 - val_acc: 0.9435\n",
            "CPU times: user 16min 30s, sys: 3min 34s, total: 20min 5s\n",
            "Wall time: 21min 58s\n"
          ],
          "name": "stdout"
        }
      ]
    },
    {
      "metadata": {
        "id": "QKwHFy9AiF3q",
        "colab_type": "text"
      },
      "cell_type": "markdown",
      "source": [
        "The model performs well enough, the accuracy on validation set is higher than 90% and the loss decreases as it continues to learn."
      ]
    },
    {
      "metadata": {
        "id": "YOwBAVnP4rPJ",
        "colab_type": "code",
        "colab": {
          "base_uri": "https://localhost:8080/",
          "height": 590
        },
        "outputId": "5ab54c57-b66e-4651-9227-d6b4ff5c2495"
      },
      "cell_type": "code",
      "source": [
        "print(history.history.keys())\n",
        "#  \"Accuracy\"\n",
        "plt.plot(history.history['acc'])\n",
        "plt.plot(history.history['val_acc'])\n",
        "plt.title('model accuracy')\n",
        "plt.ylabel('accuracy')\n",
        "plt.xlabel('epoch')\n",
        "plt.legend(['train', 'validation'], loc='upper left')\n",
        "plt.show()\n",
        "# \"Loss\"\n",
        "plt.plot(history.history['loss'])\n",
        "plt.plot(history.history['val_loss'])\n",
        "plt.title('model loss')\n",
        "plt.ylabel('loss')\n",
        "plt.xlabel('epoch')\n",
        "plt.legend(['train', 'validation'], loc='upper left')\n",
        "plt.show()"
      ],
      "execution_count": 30,
      "outputs": [
        {
          "output_type": "stream",
          "text": [
            "dict_keys(['val_loss', 'val_acc', 'loss', 'acc'])\n"
          ],
          "name": "stdout"
        },
        {
          "output_type": "display_data",
          "data": {
            "image/png": "[encoded data removed]",
            "text/plain": [
              "<matplotlib.figure.Figure at 0x7f0959040a90>"
            ]
          },
          "metadata": {
            "tags": []
          }
        },
        {
          "output_type": "display_data",
          "data": {
            "image/png": "[encoded data removed]",
            "text/plain": [
              "<matplotlib.figure.Figure at 0x7f0958f90470>"
            ]
          },
          "metadata": {
            "tags": []
          }
        }
      ]
    },
    {
      "metadata": {
        "id": "Pet27Fp04rrZ",
        "colab_type": "text"
      },
      "cell_type": "markdown",
      "source": [
        "## Part 2"
      ]
    },
    {
      "metadata": {
        "id": "kAXeYWzp6CXr",
        "colab_type": "code",
        "outputId": "bb807986-de71-4855-b22f-b11cf837e7d2",
        "colab": {
          "base_uri": "https://localhost:8080/",
          "height": 54
        }
      },
      "cell_type": "code",
      "source": [
        "%%time\n",
        "import data_generator\n",
        "\n",
        "\n",
        "train_generator = data_generator.training_generator(batch_size=25000)\n",
        "test_generator = data_generator.test_generator(batch_size = 10000)\n",
        "\n",
        "x_train, x_labels, numbers_sum = next(train_generator)\n",
        "x_test, y_labels, y_numbers_sum = next(test_generator)\n",
        "\n",
        "x_train.shape == (8, 2, 28, 84)     # 8 pairs of images with height 28px and width 84px\n",
        "x_labels.shape == (8, 2)       # 8 pairs of numbers corresponding to the images\n",
        "numbers_sum.shape == (8, 1)   # 8 numbers that represent the sum of the numbers from the images"
      ],
      "execution_count": 8,
      "outputs": [
        {
          "output_type": "stream",
          "text": [
            "CPU times: user 2min 37s, sys: 125 ms, total: 2min 37s\n",
            "Wall time: 2min 37s\n"
          ],
          "name": "stdout"
        }
      ]
    },
    {
      "metadata": {
        "id": "vF4gxfmHig0a",
        "colab_type": "text"
      },
      "cell_type": "markdown",
      "source": [
        "## Data processing\n",
        "For the second part each number has been padded with zeroes in such a way all the numbers are 3 digit(example: 43 becomes 043).\n",
        "All the training data and the labels are broken into array of digits and using to_categorical from keras are encoded into matrixes from 0 to number_classes, in out case th number of classes being 10.\n"
      ]
    },
    {
      "metadata": {
        "id": "n3w2GZ_e_yHR",
        "colab_type": "code",
        "outputId": "00e9c31d-4168-4025-9ef7-38f27057cbcc",
        "colab": {
          "base_uri": "https://localhost:8080/",
          "height": 399
        }
      },
      "cell_type": "code",
      "source": [
        "#for train\n",
        "#padding with rjust\n",
        "x_labels_str = np.array([[str(x[0]), str(x[1])] for x in x_labels])\n",
        "x_labels_str = np.array([[x[0].rjust(3,'0'), x[1].rjust(3,'0')] for x in x_labels_str])\n",
        "print(x_labels_str[0])\n",
        "\n",
        "new_array = []\n",
        "for i in x_labels_str:\n",
        "    new_array.append(i[0]+i[1])\n",
        "    \n",
        "   \n",
        "#print(new_array)\n",
        "number_sum_str = np.array([str(x[0]) for x in numbers_sum])\n",
        "sums = np.array([[x.rjust(3,'0')] for x in number_sum_str])\n",
        "\n",
        "\n",
        "#for test\n",
        "y_labels_str = np.array([[str(x[0]), str(x[1])] for x in y_labels])\n",
        "y_labels_str = np.array([[x[0].rjust(3,'0'), x[1].rjust(3,'0')] for x in y_labels_str])\n",
        "print(y_labels_str[0])\n",
        "\n",
        "new_array_test = []\n",
        "for i in y_labels_str:\n",
        "    new_array_test.append(i[0]+i[1])\n",
        "    \n",
        "   \n",
        "#print(new_array)\n",
        "number_sum_str_test = np.array([str(x[0]) for x in y_numbers_sum])\n",
        "sums_test = np.array([[x.rjust(3,'0')] for x in number_sum_str_test])\n",
        "\n",
        "\n",
        "#Encoding\n",
        "\n",
        "def encode(data):\n",
        "    print('Shape of data (BEFORE encode): %s' % str(data.shape))\n",
        "    encoded = to_categorical(data)\n",
        "    print('Shape of data (AFTER  encode): %s\\n' % str(encoded.shape))\n",
        "    return encoded\n",
        "\n",
        "\n",
        "def decode(datum):\n",
        "    return np.argmax(datum)\n",
        "\n",
        "#train\n",
        "digits_array = np.array([[int(d) for d in x] for x in new_array])\n",
        "digits_sums = np.array([[int(d) for d in x[0]] for x in sums])\n",
        "\n",
        "#test\n",
        "digits_array_test = np.array([[int(d) for d in x] for x in new_array_test])\n",
        "digits_sums_test = np.array([[int(d) for d in x[0]] for x in sums_test])\n",
        "\n",
        "\n",
        "\n",
        "print(\"Digits of the sum label: \",digits_sums)\n",
        "\n",
        "\n",
        "\n",
        "encoded_data = encode(digits_array)\n",
        "encoded_labels = encode(digits_sums)\n",
        "\n",
        "encoded_data_test = encode(digits_array_test)\n",
        "encoded_labels_test = encode(digits_sums_test)\n",
        "#print(encoded_data) \n",
        "\n",
        "# for i in range(encoded_data.shape[0]):\n",
        "#   datum = encoded_data[i]\n",
        "#   print('index: %d' % i)\n",
        "#   print('encoded datum: %s' % datum)\n",
        "#   decoded_datum = decode(encoded_data[i])\n",
        "#   print('decoded datum: %s' % decoded_datum)\n",
        "#   print()\n",
        "\n",
        "#print(sums)"
      ],
      "execution_count": 9,
      "outputs": [
        {
          "output_type": "stream",
          "text": [
            "['082' '110']\n",
            "['157' '238']\n",
            "Digits of the sum label:  [[1 9 2]\n",
            " [4 2 6]\n",
            " [3 2 5]\n",
            " ...\n",
            " [2 3 6]\n",
            " [0 9 0]\n",
            " [3 2 0]]\n",
            "Shape of data (BEFORE encode): (25000, 6)\n",
            "Shape of data (AFTER  encode): (25000, 6, 10)\n",
            "\n",
            "Shape of data (BEFORE encode): (25000, 3)\n",
            "Shape of data (AFTER  encode): (25000, 3, 10)\n",
            "\n",
            "Shape of data (BEFORE encode): (10000, 6)\n",
            "Shape of data (AFTER  encode): (10000, 6, 10)\n",
            "\n",
            "Shape of data (BEFORE encode): (10000, 3)\n",
            "Shape of data (AFTER  encode): (10000, 3, 10)\n",
            "\n"
          ],
          "name": "stdout"
        }
      ]
    },
    {
      "metadata": {
        "id": "QVmZmqnb24sp",
        "colab_type": "code",
        "outputId": "d9cfc511-8c74-42b3-e467-594b3b330fe6",
        "colab": {
          "base_uri": "https://localhost:8080/",
          "height": 35
        }
      },
      "cell_type": "code",
      "source": [
        "encoded_data.shape[1:]"
      ],
      "execution_count": 0,
      "outputs": [
        {
          "output_type": "execute_result",
          "data": {
            "text/plain": [
              "(6, 10)"
            ]
          },
          "metadata": {
            "tags": []
          },
          "execution_count": 9
        }
      ]
    },
    {
      "metadata": {
        "id": "8PRJuX4hkv03",
        "colab_type": "text"
      },
      "cell_type": "markdown",
      "source": [
        "LSTM are a type of recurrent neural network that are capable of learning the relation between elements in a input sequence.\n",
        "\n",
        "RepeatVector repeats the very last output of the encoder, in a way giving the same input but at a different hidden state.\n",
        "The TimeDistributed layer is a wrapper layer over the Dense layer in order to  keep one-to-one relations on input and output."
      ]
    },
    {
      "metadata": {
        "id": "IHT80pRj6PSs",
        "colab_type": "code",
        "outputId": "7cfd3320-62ae-4485-f3b4-557f45101ed1",
        "colab": {
          "base_uri": "https://localhost:8080/",
          "height": 308
        }
      },
      "cell_type": "code",
      "source": [
        "\n",
        "\n",
        "digits = ['0', '1', '2', '3', '4', '5', '6', '7', '8', '9']\n",
        "n_chars = len(digits)\n",
        "\n",
        "# create LSTM\n",
        "model = Sequential()\n",
        "model.add(LSTM(100, input_shape=encoded_data.shape[1:]))\n",
        "model.add(RepeatVector(3))\n",
        "model.add(LSTM(100, return_sequences=True))\n",
        "\n",
        "model.add(TimeDistributed(Dense(n_chars, activation='softmax')))\n",
        "model.compile(loss='categorical_crossentropy', optimizer='adam', metrics=['accuracy'])\n",
        "print(model.summary())\n",
        "\n"
      ],
      "execution_count": 10,
      "outputs": [
        {
          "output_type": "stream",
          "text": [
            "_________________________________________________________________\n",
            "Layer (type)                 Output Shape              Param #   \n",
            "=================================================================\n",
            "lstm_1 (LSTM)                (None, 100)               44400     \n",
            "_________________________________________________________________\n",
            "repeat_vector_1 (RepeatVecto (None, 3, 100)            0         \n",
            "_________________________________________________________________\n",
            "lstm_2 (LSTM)                (None, 3, 100)            80400     \n",
            "_________________________________________________________________\n",
            "time_distributed_1 (TimeDist (None, 3, 10)             1010      \n",
            "=================================================================\n",
            "Total params: 125,810\n",
            "Trainable params: 125,810\n",
            "Non-trainable params: 0\n",
            "_________________________________________________________________\n",
            "None\n"
          ],
          "name": "stdout"
        }
      ]
    },
    {
      "metadata": {
        "id": "smIcUJ9w38-L",
        "colab_type": "code",
        "outputId": "d4535e10-ef4d-413f-cb62-60e28026859d",
        "colab": {
          "base_uri": "https://localhost:8080/",
          "height": 1854
        }
      },
      "cell_type": "code",
      "source": [
        "history = model.fit(encoded_data, encoded_labels,\n",
        "          validation_data = (encoded_data_test, encoded_labels_test),\n",
        "          batch_size = 64,\n",
        "          epochs=50)\n"
      ],
      "execution_count": 11,
      "outputs": [
        {
          "output_type": "stream",
          "text": [
            "Train on 25000 samples, validate on 10000 samples\n",
            "Epoch 1/50\n",
            "25000/25000 [==============================] - 14s 545us/step - loss: 1.9439 - acc: 0.2377 - val_loss: 1.8358 - val_acc: 0.2751\n",
            "Epoch 2/50\n",
            "25000/25000 [==============================] - 12s 498us/step - loss: 1.7738 - acc: 0.3030 - val_loss: 1.7098 - val_acc: 0.3251\n",
            "Epoch 3/50\n",
            "25000/25000 [==============================] - 12s 495us/step - loss: 1.6071 - acc: 0.3835 - val_loss: 1.5204 - val_acc: 0.4242\n",
            "Epoch 4/50\n",
            "25000/25000 [==============================] - 12s 496us/step - loss: 1.3907 - acc: 0.4745 - val_loss: 1.2644 - val_acc: 0.5319\n",
            "Epoch 5/50\n",
            "25000/25000 [==============================] - 13s 500us/step - loss: 1.2016 - acc: 0.5468 - val_loss: 1.1401 - val_acc: 0.5833\n",
            "Epoch 6/50\n",
            "25000/25000 [==============================] - 12s 492us/step - loss: 1.1059 - acc: 0.5883 - val_loss: 1.0700 - val_acc: 0.6039\n",
            "Epoch 7/50\n",
            "25000/25000 [==============================] - 12s 493us/step - loss: 1.0396 - acc: 0.6099 - val_loss: 1.0201 - val_acc: 0.6145\n",
            "Epoch 8/50\n",
            "25000/25000 [==============================] - 12s 492us/step - loss: 0.9751 - acc: 0.6363 - val_loss: 0.9339 - val_acc: 0.6588\n",
            "Epoch 9/50\n",
            "25000/25000 [==============================] - 12s 489us/step - loss: 0.9036 - acc: 0.6686 - val_loss: 0.8765 - val_acc: 0.6794\n",
            "Epoch 10/50\n",
            "25000/25000 [==============================] - 12s 493us/step - loss: 0.8329 - acc: 0.6951 - val_loss: 0.8032 - val_acc: 0.7093\n",
            "Epoch 11/50\n",
            "25000/25000 [==============================] - 12s 493us/step - loss: 0.7518 - acc: 0.7302 - val_loss: 0.7077 - val_acc: 0.7565\n",
            "Epoch 12/50\n",
            "25000/25000 [==============================] - 12s 494us/step - loss: 0.6633 - acc: 0.7740 - val_loss: 0.6797 - val_acc: 0.7490\n",
            "Epoch 13/50\n",
            "25000/25000 [==============================] - 12s 492us/step - loss: 0.6040 - acc: 0.7941 - val_loss: 0.5660 - val_acc: 0.8154\n",
            "Epoch 14/50\n",
            "25000/25000 [==============================] - 12s 491us/step - loss: 0.5330 - acc: 0.8271 - val_loss: 0.4940 - val_acc: 0.8499\n",
            "Epoch 15/50\n",
            "25000/25000 [==============================] - 12s 492us/step - loss: 0.4784 - acc: 0.8467 - val_loss: 0.5013 - val_acc: 0.8034\n",
            "Epoch 16/50\n",
            "25000/25000 [==============================] - 12s 494us/step - loss: 0.4186 - acc: 0.8719 - val_loss: 0.4098 - val_acc: 0.8741\n",
            "Epoch 17/50\n",
            "25000/25000 [==============================] - 12s 494us/step - loss: 0.3574 - acc: 0.9014 - val_loss: 0.3498 - val_acc: 0.9043\n",
            "Epoch 18/50\n",
            "25000/25000 [==============================] - 12s 494us/step - loss: 0.3160 - acc: 0.9183 - val_loss: 0.2960 - val_acc: 0.9238\n",
            "Epoch 19/50\n",
            "25000/25000 [==============================] - 12s 494us/step - loss: 0.2719 - acc: 0.9336 - val_loss: 0.2460 - val_acc: 0.9492\n",
            "Epoch 20/50\n",
            "25000/25000 [==============================] - 12s 496us/step - loss: 0.2354 - acc: 0.9449 - val_loss: 0.2243 - val_acc: 0.9446\n",
            "Epoch 21/50\n",
            "25000/25000 [==============================] - 12s 494us/step - loss: 0.2147 - acc: 0.9488 - val_loss: 0.1844 - val_acc: 0.9633\n",
            "Epoch 22/50\n",
            "25000/25000 [==============================] - 12s 495us/step - loss: 0.1613 - acc: 0.9701 - val_loss: 0.1702 - val_acc: 0.9575\n",
            "Epoch 23/50\n",
            "25000/25000 [==============================] - 12s 496us/step - loss: 0.1366 - acc: 0.9750 - val_loss: 0.1677 - val_acc: 0.9579\n",
            "Epoch 24/50\n",
            "25000/25000 [==============================] - 12s 495us/step - loss: 0.1276 - acc: 0.9731 - val_loss: 0.1043 - val_acc: 0.9831\n",
            "Epoch 25/50\n",
            "25000/25000 [==============================] - 12s 497us/step - loss: 0.1015 - acc: 0.9813 - val_loss: 0.1130 - val_acc: 0.9728\n",
            "Epoch 26/50\n",
            "25000/25000 [==============================] - 12s 496us/step - loss: 0.1062 - acc: 0.9752 - val_loss: 0.1067 - val_acc: 0.9737\n",
            "Epoch 27/50\n",
            "25000/25000 [==============================] - 12s 494us/step - loss: 0.0692 - acc: 0.9890 - val_loss: 0.0585 - val_acc: 0.9919\n",
            "Epoch 28/50\n",
            "25000/25000 [==============================] - 12s 494us/step - loss: 0.0754 - acc: 0.9829 - val_loss: 0.1897 - val_acc: 0.9300\n",
            "Epoch 29/50\n",
            "25000/25000 [==============================] - 12s 494us/step - loss: 0.0645 - acc: 0.9864 - val_loss: 0.0476 - val_acc: 0.9931\n",
            "Epoch 30/50\n",
            "25000/25000 [==============================] - 12s 496us/step - loss: 0.0601 - acc: 0.9861 - val_loss: 0.0751 - val_acc: 0.9782\n",
            "Epoch 31/50\n",
            "25000/25000 [==============================] - 12s 495us/step - loss: 0.0511 - acc: 0.9887 - val_loss: 0.0355 - val_acc: 0.9946\n",
            "Epoch 32/50\n",
            "25000/25000 [==============================] - 12s 493us/step - loss: 0.0687 - acc: 0.9807 - val_loss: 0.0405 - val_acc: 0.9915\n",
            "Epoch 33/50\n",
            "25000/25000 [==============================] - 12s 495us/step - loss: 0.0445 - acc: 0.9899 - val_loss: 0.0403 - val_acc: 0.9912\n",
            "Epoch 34/50\n",
            "25000/25000 [==============================] - 12s 497us/step - loss: 0.0407 - acc: 0.9906 - val_loss: 0.0492 - val_acc: 0.9864\n",
            "Epoch 35/50\n",
            "25000/25000 [==============================] - 12s 498us/step - loss: 0.0380 - acc: 0.9912 - val_loss: 0.0618 - val_acc: 0.9805\n",
            "Epoch 36/50\n",
            "25000/25000 [==============================] - 12s 496us/step - loss: 0.0481 - acc: 0.9868 - val_loss: 0.0508 - val_acc: 0.9860\n",
            "Epoch 37/50\n",
            "25000/25000 [==============================] - 12s 495us/step - loss: 0.0397 - acc: 0.9894 - val_loss: 0.0219 - val_acc: 0.9962\n",
            "Epoch 38/50\n",
            "25000/25000 [==============================] - 12s 494us/step - loss: 0.0339 - acc: 0.9910 - val_loss: 0.3125 - val_acc: 0.8864\n",
            "Epoch 39/50\n",
            "25000/25000 [==============================] - 12s 494us/step - loss: 0.0562 - acc: 0.9824 - val_loss: 0.0702 - val_acc: 0.9759\n",
            "Epoch 40/50\n",
            "25000/25000 [==============================] - 12s 495us/step - loss: 0.0199 - acc: 0.9964 - val_loss: 0.0339 - val_acc: 0.9909\n",
            "Epoch 41/50\n",
            "25000/25000 [==============================] - 12s 496us/step - loss: 0.0496 - acc: 0.9844 - val_loss: 0.0182 - val_acc: 0.9967\n",
            "Epoch 42/50\n",
            "25000/25000 [==============================] - 12s 497us/step - loss: 0.0120 - acc: 0.9987 - val_loss: 0.0155 - val_acc: 0.9973\n",
            "Epoch 43/50\n",
            "25000/25000 [==============================] - 12s 497us/step - loss: 0.0471 - acc: 0.9857 - val_loss: 0.0166 - val_acc: 0.9972\n",
            "Epoch 44/50\n",
            "25000/25000 [==============================] - 12s 499us/step - loss: 0.0123 - acc: 0.9984 - val_loss: 0.0129 - val_acc: 0.9979\n",
            "Epoch 45/50\n",
            "25000/25000 [==============================] - 12s 496us/step - loss: 0.0294 - acc: 0.9916 - val_loss: 0.0239 - val_acc: 0.9938\n",
            "Epoch 46/50\n",
            "25000/25000 [==============================] - 12s 496us/step - loss: 0.0278 - acc: 0.9926 - val_loss: 0.0302 - val_acc: 0.9905\n",
            "Epoch 47/50\n",
            "25000/25000 [==============================] - 12s 493us/step - loss: 0.0193 - acc: 0.9952 - val_loss: 0.1319 - val_acc: 0.9515\n",
            "Epoch 48/50\n",
            "25000/25000 [==============================] - 12s 494us/step - loss: 0.0263 - acc: 0.9925 - val_loss: 0.0128 - val_acc: 0.9975\n",
            "Epoch 49/50\n",
            "25000/25000 [==============================] - 12s 497us/step - loss: 0.0152 - acc: 0.9969 - val_loss: 0.0170 - val_acc: 0.9952\n",
            "Epoch 50/50\n",
            "25000/25000 [==============================] - 12s 498us/step - loss: 0.0426 - acc: 0.9865 - val_loss: 0.0152 - val_acc: 0.9962\n"
          ],
          "name": "stdout"
        }
      ]
    },
    {
      "metadata": {
        "id": "YLweY_JI-I3M",
        "colab_type": "code",
        "colab": {
          "base_uri": "https://localhost:8080/",
          "height": 590
        },
        "outputId": "7ebb6a7b-58bc-4c41-c516-1dbaef13d419"
      },
      "cell_type": "code",
      "source": [
        " print(history.history.keys())\n",
        "#  \"Accuracy\"\n",
        "plt.plot(history.history['acc'])\n",
        "plt.plot(history.history['val_acc'])\n",
        "plt.title('model accuracy')\n",
        "plt.ylabel('accuracy')\n",
        "plt.xlabel('epoch')\n",
        "plt.legend(['train', 'validation'], loc='upper left')\n",
        "plt.show()\n",
        "# \"Loss\"\n",
        "plt.plot(history.history['loss'])\n",
        "plt.plot(history.history['val_loss'])\n",
        "plt.title('model loss')\n",
        "plt.ylabel('loss')\n",
        "plt.xlabel('epoch')\n",
        "plt.legend(['train', 'validation'], loc='upper left')\n",
        "plt.show()\n",
        "  "
      ],
      "execution_count": 12,
      "outputs": [
        {
          "output_type": "stream",
          "text": [
            "dict_keys(['val_loss', 'val_acc', 'loss', 'acc'])\n"
          ],
          "name": "stdout"
        },
        {
          "output_type": "display_data",
          "data": {
            "image/png": "[encoded data removed]",
            "text/plain": [
              "<matplotlib.figure.Figure at 0x7f09cb7e9630>"
            ]
          },
          "metadata": {
            "tags": []
          }
        },
        {
          "output_type": "display_data",
          "data": {
            "image/png": "[encoded data removed]",
            "text/plain": [
              "<matplotlib.figure.Figure at 0x7f09cb76c7b8>"
            ]
          },
          "metadata": {
            "tags": []
          }
        }
      ]
    },
    {
      "metadata": {
        "id": "BKL2vvsWz6in",
        "colab_type": "code",
        "colab": {}
      },
      "cell_type": "code",
      "source": [
        "The second model seems to behave welll also, as can be observed from the plots above."
      ],
      "execution_count": 0,
      "outputs": []
    },
    {
      "metadata": {
        "id": "t33hn-rzPj-0",
        "colab_type": "text"
      },
      "cell_type": "markdown",
      "source": [
        "\n"
      ]
    },
    {
      "metadata": {
        "id": "-bng1Uja6n7H",
        "colab_type": "code",
        "colab": {}
      },
      "cell_type": "code",
      "source": [
        ""
      ],
      "execution_count": 0,
      "outputs": []
    }
  ]
}
